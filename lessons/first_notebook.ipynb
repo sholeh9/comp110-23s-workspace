{
 "cells": [
  {
   "attachments": {},
   "cell_type": "markdown",
   "metadata": {},
   "source": [
    "# Intro to Jupyter Notebooks\n",
    "Here I will demnstrate some functionality of jupyter notebooks."
   ]
  },
  {
   "attachments": {},
   "cell_type": "markdown",
   "metadata": {},
   "source": [
    "## Running Python\n",
    "\n",
    "*Create a Python cell by pressing `+code`\n",
    "\n",
    "*Always prints expression on last line"
   ]
  },
  {
   "cell_type": "code",
   "execution_count": 1,
   "metadata": {},
   "outputs": [
    {
     "name": "stdout",
     "output_type": "stream",
     "text": [
      "Sholeh\n"
     ]
    },
    {
     "data": {
      "text/plain": [
       "'Sholeh is cool.'"
      ]
     },
     "execution_count": 1,
     "metadata": {},
     "output_type": "execute_result"
    }
   ],
   "source": [
    "name: str = \"Sholeh\" #try changing the variable name and see what happens\n",
    "print(name)\n",
    "name + \" is cool.\"\n"
   ]
  },
  {
   "attachments": {},
   "cell_type": "markdown",
   "metadata": {},
   "source": [
    "# Variables\n",
    "*Variables can be used between cells\n",
    "\n",
    "*`Restart` clears variables/memory\n",
    "\n",
    "*Must run cell where variable is defined before running cell that uses variable"
   ]
  },
  {
   "cell_type": "code",
   "execution_count": 2,
   "metadata": {},
   "outputs": [
    {
     "name": "stdout",
     "output_type": "stream",
     "text": [
      "Howdy, Sholeh!\n"
     ]
    }
   ],
   "source": [
    "print(f\"Howdy, {name}!\")"
   ]
  },
  {
   "attachments": {},
   "cell_type": "markdown",
   "metadata": {},
   "source": [
    "## Making changes and Re-Opening a Notebook\n",
    "\n",
    "0. (If making changes.) Save!\n",
    "1. Restart kernel.\n",
    "2. Clear All outputs.\n",
    "3. Run All."
   ]
  },
  {
   "attachments": {},
   "cell_type": "markdown",
   "metadata": {},
   "source": [
    "## Importing functions\n",
    "\n",
    "*You can import functions in jupyter notebooks like you do in other python files!"
   ]
  },
  {
   "cell_type": "code",
   "execution_count": 3,
   "metadata": {},
   "outputs": [
    {
     "data": {
      "text/plain": [
       "5"
      ]
     },
     "execution_count": 3,
     "metadata": {},
     "output_type": "execute_result"
    }
   ],
   "source": [
    "from my_functions import addition\n",
    "\n",
    "addition(2,3)"
   ]
  }
 ],
 "metadata": {
  "language_info": {
   "name": "python"
  },
  "orig_nbformat": 4
 },
 "nbformat": 4,
 "nbformat_minor": 2
}
